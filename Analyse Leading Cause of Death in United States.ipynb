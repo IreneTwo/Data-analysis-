{
 "cells": [
  {
   "cell_type": "markdown",
   "metadata": {},
   "source": [
    "Written by: Irene Too Mar 23, 2019 \n",
    "\n",
    "In this post I will be doing a general analysis of Leading Causes of Death in United States (from NCHS)\n",
    "open-source data was taken from here https://data.cdc.gov/NCHS/NCHS-Leading-Causes-of-Death-United-States/bi63-dtpu\n",
    "\n",
    "The codes are adapted and modified from Kaggle Post 'General Analysis of Suicide Rates' from \n",
    "https://www.kaggle.com/kralmachine/data-visualization-of-suicide-rates\n",
    "\n",
    "\n",
    "Python 3.7\n",
    "Jupyter Notebook"
   ]
  },
  {
   "cell_type": "markdown",
   "metadata": {},
   "source": [
    "# Step 1: Import python packages needed\n",
    "\n",
    "#visualization: draw statistical graph\n",
    "# [error]: \n",
    "if seaborn is installed but cant import into jupyter notebook, try these few steps:\n",
    "# [solution 1]: \n",
    "in jupyter notebook, run these code before import seaborn: \n",
    "import sys\n",
    "sys.path\n",
    "# [solution 2]: \n",
    "install utils by running \"sudo pip install utils\" in cmd prompt \n",
    "# [solution 3]: \n",
    "check if your jupyter notebook upper right hand site, its labelled \"trusted\". if not, click on \"not trusted\" and change to trusted. Re-run yr jupyter notebook again."
   ]
  },
  {
   "cell_type": "code",
   "execution_count": 54,
   "metadata": {},
   "outputs": [],
   "source": [
    "import pandas as pd\n",
    "\n",
    "#visualization: draw figures/3D models\n",
    "import matplotlib.pyplot as plt\n",
    "\n",
    "\n",
    "import seaborn as sns  "
   ]
  },
  {
   "cell_type": "markdown",
   "metadata": {},
   "source": [
    "#  step 2"
   ]
  },
  {
   "cell_type": "code",
   "execution_count": 39,
   "metadata": {},
   "outputs": [
    {
     "data": {
      "text/html": [
       "<div>\n",
       "<style scoped>\n",
       "    .dataframe tbody tr th:only-of-type {\n",
       "        vertical-align: middle;\n",
       "    }\n",
       "\n",
       "    .dataframe tbody tr th {\n",
       "        vertical-align: top;\n",
       "    }\n",
       "\n",
       "    .dataframe thead th {\n",
       "        text-align: right;\n",
       "    }\n",
       "</style>\n",
       "<table border=\"1\" class=\"dataframe\">\n",
       "  <thead>\n",
       "    <tr style=\"text-align: right;\">\n",
       "      <th></th>\n",
       "      <th>Year</th>\n",
       "      <th>113 Cause Name</th>\n",
       "      <th>CauseName</th>\n",
       "      <th>State</th>\n",
       "      <th>Deaths</th>\n",
       "      <th>Age-adjustedDeathRate</th>\n",
       "    </tr>\n",
       "  </thead>\n",
       "  <tbody>\n",
       "    <tr>\n",
       "      <th>10291</th>\n",
       "      <td>2003</td>\n",
       "      <td>Accidents (unintentional injuries) (V01-X59,Y8...</td>\n",
       "      <td>Unintentional injuries</td>\n",
       "      <td>Wyoming</td>\n",
       "      <td>273</td>\n",
       "      <td>55.1</td>\n",
       "    </tr>\n",
       "    <tr>\n",
       "      <th>10292</th>\n",
       "      <td>2002</td>\n",
       "      <td>Accidents (unintentional injuries) (V01-X59,Y8...</td>\n",
       "      <td>Unintentional injuries</td>\n",
       "      <td>Wyoming</td>\n",
       "      <td>289</td>\n",
       "      <td>58.1</td>\n",
       "    </tr>\n",
       "    <tr>\n",
       "      <th>10293</th>\n",
       "      <td>2001</td>\n",
       "      <td>Accidents (unintentional injuries) (V01-X59,Y8...</td>\n",
       "      <td>Unintentional injuries</td>\n",
       "      <td>Wyoming</td>\n",
       "      <td>272</td>\n",
       "      <td>55.5</td>\n",
       "    </tr>\n",
       "    <tr>\n",
       "      <th>10294</th>\n",
       "      <td>2000</td>\n",
       "      <td>Accidents (unintentional injuries) (V01-X59,Y8...</td>\n",
       "      <td>Unintentional injuries</td>\n",
       "      <td>Wyoming</td>\n",
       "      <td>245</td>\n",
       "      <td>50.8</td>\n",
       "    </tr>\n",
       "    <tr>\n",
       "      <th>10295</th>\n",
       "      <td>1999</td>\n",
       "      <td>Accidents (unintentional injuries) (V01-X59,Y8...</td>\n",
       "      <td>Unintentional injuries</td>\n",
       "      <td>Wyoming</td>\n",
       "      <td>258</td>\n",
       "      <td>52.8</td>\n",
       "    </tr>\n",
       "  </tbody>\n",
       "</table>\n",
       "</div>"
      ],
      "text/plain": [
       "       Year                                     113 Cause Name  \\\n",
       "10291  2003  Accidents (unintentional injuries) (V01-X59,Y8...   \n",
       "10292  2002  Accidents (unintentional injuries) (V01-X59,Y8...   \n",
       "10293  2001  Accidents (unintentional injuries) (V01-X59,Y8...   \n",
       "10294  2000  Accidents (unintentional injuries) (V01-X59,Y8...   \n",
       "10295  1999  Accidents (unintentional injuries) (V01-X59,Y8...   \n",
       "\n",
       "                    CauseName    State  Deaths  Age-adjustedDeathRate  \n",
       "10291  Unintentional injuries  Wyoming     273                   55.1  \n",
       "10292  Unintentional injuries  Wyoming     289                   58.1  \n",
       "10293  Unintentional injuries  Wyoming     272                   55.5  \n",
       "10294  Unintentional injuries  Wyoming     245                   50.8  \n",
       "10295  Unintentional injuries  Wyoming     258                   52.8  "
      ]
     },
     "execution_count": 39,
     "metadata": {},
     "output_type": "execute_result"
    }
   ],
   "source": [
    "#read file from local storage\n",
    "data = pd.read_csv(r'C:\\Users\\Aspire\\Downloads\\NCHS_-_Leading_Causes_of_Death__United_States.csv')\n",
    "\n",
    "#show first 5 rows from file\n",
    "data.head()\n",
    "\n",
    "#show data last 5 rows\n",
    "data.tail()"
   ]
  },
  {
   "cell_type": "code",
   "execution_count": 40,
   "metadata": {},
   "outputs": [
    {
     "data": {
      "text/plain": [
       "Index(['Year', '113 Cause Name', 'CauseName', 'State', 'Deaths',\n",
       "       'Age-adjustedDeathRate'],\n",
       "      dtype='object')"
      ]
     },
     "execution_count": 40,
     "metadata": {},
     "output_type": "execute_result"
    }
   ],
   "source": [
    "data.sample(frac=0.1)\n",
    "\n",
    "#Find out the headings to determine what can be interpreted for accident death rates\n",
    "data.columns"
   ]
  },
  {
   "cell_type": "code",
   "execution_count": 41,
   "metadata": {},
   "outputs": [
    {
     "name": "stdout",
     "output_type": "stream",
     "text": [
      "<class 'pandas.core.frame.DataFrame'>\n",
      "RangeIndex: 10296 entries, 0 to 10295\n",
      "Data columns (total 6 columns):\n",
      "Year                     10296 non-null int64\n",
      "113 Cause Name           10296 non-null object\n",
      "CauseName                10296 non-null object\n",
      "State                    10296 non-null object\n",
      "Deaths                   10296 non-null int64\n",
      "Age-adjustedDeathRate    10296 non-null float64\n",
      "dtypes: float64(1), int64(2), object(3)\n",
      "memory usage: 482.7+ KB\n"
     ]
    }
   ],
   "source": [
    "#The info function shows the data types and numerical values of the features in our data set.\n",
    "data.info()"
   ]
  },
  {
   "cell_type": "code",
   "execution_count": 42,
   "metadata": {},
   "outputs": [
    {
     "data": {
      "text/plain": [
       "Year                     False\n",
       "113 Cause Name           False\n",
       "CauseName                False\n",
       "State                    False\n",
       "Deaths                   False\n",
       "Age-adjustedDeathRate    False\n",
       "dtype: bool"
      ]
     },
     "execution_count": 42,
     "metadata": {},
     "output_type": "execute_result"
    }
   ],
   "source": [
    "data.isnull().any()"
   ]
  },
  {
   "cell_type": "code",
   "execution_count": 56,
   "metadata": {},
   "outputs": [
    {
     "name": "stdout",
     "output_type": "stream",
     "text": [
      "Min Year : 1999\n",
      "Max Year : 2016\n"
     ]
    }
   ],
   "source": [
    "#Now start analysis, min year and max year will find them\n",
    "min_year=min(data.Year)\n",
    "max_year=max(data.Year)\n",
    "print('Min Year :',min_year)\n",
    "print('Max Year :',max_year)"
   ]
  },
  {
   "cell_type": "markdown",
   "metadata": {},
   "source": [
    "# General Visualisation Part"
   ]
  },
  {
   "cell_type": "code",
   "execution_count": 55,
   "metadata": {},
   "outputs": [
    {
     "data": {
      "image/png": "[encoded data removed]",
      "text/plain": [
       "<Figure size 720x720 with 1 Axes>"
      ]
     },
     "metadata": {
      "needs_background": "light"
     },
     "output_type": "display_data"
    }
   ],
   "source": [
    "data_CauseName=data[(data['Year']==min_year)]\n",
    "CauseName_1999=data[(data['Year']==min_year)].CauseName.unique()\n",
    "\n",
    "CauseName_1999_Deaths=[]\n",
    "\n",
    "for CauseName in CauseName_1999:\n",
    "    CauseName_1999_Deaths.append(sum(data_CauseName[(data_CauseName['CauseName']==CauseName)].Deaths))    \n",
    "\n",
    "#Now year 1999 find sum of deaths for every accident cause name\n",
    "\n",
    "plt.figure(figsize=(10,10))\n",
    "sns.barplot(y=CauseName_1999,x=CauseName_1999_Deaths)\n",
    "plt.xlabel('Death Count')\n",
    "plt.ylabel('Cause Name')\n",
    "plt.title('Sum of Death Counts for Accident Rate in Year 1999')\n",
    "plt.show()"
   ]
  },
  {
   "cell_type": "markdown",
   "metadata": {},
   "source": [
    "Note that other than 'all causes', the top 3 cause of death in year 1999 are:\n",
    "    heart disease, cancer, and stroke\n",
    "    \n",
    "    \n",
    "#  Visualization Part 2"
   ]
  },
  {
   "cell_type": "code",
   "execution_count": 45,
   "metadata": {},
   "outputs": [],
   "source": [
    "Deaths=[]\n",
    "for State in data.State.unique():\n",
    "    Deaths.append(sum(data[data['State']==State].Deaths))  \n"
   ]
  },
  {
   "cell_type": "code",
   "execution_count": 46,
   "metadata": {},
   "outputs": [],
   "source": [
    "Deaths=pd.DataFrame(Deaths,columns=['Deaths'])\n",
    "State=pd.DataFrame(data.State.unique(),columns=['State'])\n",
    "data_Deaths_countr=pd.concat([Deaths,State],axis=1)"
   ]
  },
  {
   "cell_type": "code",
   "execution_count": 47,
   "metadata": {},
   "outputs": [],
   "source": [
    "data_Deaths_countr=data_Deaths_countr.sort_values(by='Deaths',ascending=False)\n"
   ]
  },
  {
   "cell_type": "code",
   "execution_count": 52,
   "metadata": {},
   "outputs": [
    {
     "data": {
      "image/png": "[encoded data removed]",
      "text/plain": [
       "<Figure size 432x288 with 1 Axes>"
      ]
     },
     "metadata": {
      "needs_background": "light"
     },
     "output_type": "display_data"
    }
   ],
   "source": [
    "sns.barplot(y=data_Deaths_countr.State[:20],x=data_Deaths_countr.Deaths[:2000])\n",
    "plt.show()"
   ]
  },
  {
   "cell_type": "markdown",
   "metadata": {},
   "source": [
    "Note that California, Florida and Texas hit the highest States for death counts in US."
   ]
  },
  {
   "cell_type": "code",
   "execution_count": null,
   "metadata": {},
   "outputs": [],
   "source": []
  }
 ],
 "metadata": {
  "kernelspec": {
   "display_name": "Python 3",
   "language": "python",
   "name": "python3"
  },
  "language_info": {
   "codemirror_mode": {
    "name": "ipython",
    "version": 3
   },
   "file_extension": ".py",
   "mimetype": "text/x-python",
   "name": "python",
   "nbconvert_exporter": "python",
   "pygments_lexer": "ipython3",
   "version": "3.6.7"
  }
 },
 "nbformat": 4,
 "nbformat_minor": 2
}
